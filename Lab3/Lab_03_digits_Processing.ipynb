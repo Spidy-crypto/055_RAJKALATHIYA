{
 "cells": [
  {
   "cell_type": "markdown",
   "metadata": {},
   "source": [
    "# Roll No 55"
   ]
  },
  {
   "cell_type": "code",
   "execution_count": 5,
   "metadata": {},
   "outputs": [],
   "source": [
    "import numpy as np\n",
    "import pandas as pd\n",
    "import matplotlib.pyplot as plt\n",
    "from sklearn import datasets, preprocessing\n",
    "\n",
    "# naive and gaussian model\n",
    "from sklearn.naive_bayes import GaussianNB, MultinomialNB\n",
    "from sklearn.model_selection import train_test_split\n",
    "\n",
    "# for accuracy\n",
    "from sklearn import metrics\n",
    "\n",
    "# print precision and recall\n",
    "from sklearn.metrics import precision_score\n",
    "from sklearn.metrics import recall_score\n",
    "from sklearn.datasets import load_digits"
   ]
  },
  {
   "cell_type": "code",
   "execution_count": 7,
   "metadata": {},
   "outputs": [
    {
     "data": {
      "image/png": "[encoded data removed]",
      "text/plain": [
       "<Figure size 1440x1440 with 16 Axes>"
      ]
     },
     "metadata": {
      "needs_background": "light"
     },
     "output_type": "display_data"
    }
   ],
   "source": [
    "main_data = load_digits()\n",
    "\n",
    "plt.figure(figsize = (20, 20))\n",
    "\n",
    "for i in range(16):\n",
    "    plt.subplot(8, 8, i + 1)\n",
    "    plt.imshow(main_data.images[i])"
   ]
  },
  {
   "cell_type": "code",
   "execution_count": 8,
   "metadata": {},
   "outputs": [],
   "source": [
    "from sklearn import preprocessing\n",
    "\n",
    "ohe = preprocessing.OneHotEncoder()"
   ]
  },
  {
   "cell_type": "markdown",
   "metadata": {},
   "source": [
    "### Splitting train test 65-35%"
   ]
  },
  {
   "cell_type": "code",
   "execution_count": 9,
   "metadata": {},
   "outputs": [],
   "source": [
    "from sklearn.model_selection import train_test_split\n",
    "\n",
    "X_train, X_test, Y_train, Y_test = train_test_split(main_data.data, main_data.target, test_size = 0.35, random_state = 55) "
   ]
  },
  {
   "cell_type": "code",
   "execution_count": 10,
   "metadata": {},
   "outputs": [
    {
     "name": "stdout",
     "output_type": "stream",
     "text": [
      "Accuracy :- 0.8537360890302067\n"
     ]
    }
   ],
   "source": [
    "# Gaussina models\n",
    "\n",
    "gnb = GaussianNB()\n",
    "\n",
    "# train model\n",
    "gnb.fit(X_train, Y_train)\n",
    "\n",
    "# training completed\n",
    "Y_predicted = gnb.predict(X_test)\n",
    "\n",
    "print(f\"Accuracy :- {metrics.accuracy_score(Y_test, Y_predicted)}\")"
   ]
  },
  {
   "cell_type": "code",
   "execution_count": 11,
   "metadata": {},
   "outputs": [
    {
     "data": {
      "text/plain": [
       "array([[ 0.,  0.,  7., 15., 13.,  1.,  0.,  0.],\n",
       "       [ 0.,  8., 13.,  6., 15.,  4.,  0.,  0.],\n",
       "       [ 0.,  2.,  1., 13., 13.,  0.,  0.,  0.],\n",
       "       [ 0.,  0.,  2., 15., 11.,  1.,  0.,  0.],\n",
       "       [ 0.,  0.,  0.,  1., 12., 12.,  1.,  0.],\n",
       "       [ 0.,  0.,  0.,  0.,  1., 10.,  8.,  0.],\n",
       "       [ 0.,  0.,  8.,  4.,  5., 14.,  9.,  0.],\n",
       "       [ 0.,  0.,  7., 13., 13.,  9.,  0.,  0.]])"
      ]
     },
     "execution_count": 11,
     "metadata": {},
     "output_type": "execute_result"
    }
   ],
   "source": [
    "main_data.images[3]"
   ]
  },
  {
   "cell_type": "code",
   "execution_count": 12,
   "metadata": {},
   "outputs": [
    {
     "data": {
      "image/png": "[encoded data removed]",
      "text/plain": [
       "<Figure size 720x216 with 4 Axes>"
      ]
     },
     "metadata": {
      "needs_background": "light"
     },
     "output_type": "display_data"
    }
   ],
   "source": [
    "_, axes = plt.subplots(nrows=1, ncols=4, figsize=(10, 3))\n",
    "for ax, image, prediction in zip(axes, X_test, Y_predicted):\n",
    "    ax.set_axis_off()\n",
    "    image = image.reshape(8, 8)\n",
    "    ax.imshow(image, cmap=plt.cm.gray_r, interpolation='nearest')\n",
    "    ax.set_title(f'Prediction: {prediction}')"
   ]
  },
  {
   "cell_type": "code",
   "execution_count": 13,
   "metadata": {},
   "outputs": [
    {
     "name": "stdout",
     "output_type": "stream",
     "text": [
      "Classification report for classifier GaussianNB():\n",
      "              precision    recall  f1-score   support\n",
      "\n",
      "           0       0.96      0.98      0.97        56\n",
      "           1       0.82      0.85      0.84        54\n",
      "           2       0.87      0.61      0.72        67\n",
      "           3       0.88      0.80      0.84        65\n",
      "           4       0.89      0.92      0.90        61\n",
      "           5       0.89      0.94      0.91        62\n",
      "           6       1.00      0.98      0.99        64\n",
      "           7       0.79      0.99      0.87        71\n",
      "           8       0.58      0.82      0.68        55\n",
      "           9       0.98      0.69      0.81        74\n",
      "\n",
      "    accuracy                           0.85       629\n",
      "   macro avg       0.87      0.86      0.85       629\n",
      "weighted avg       0.87      0.85      0.85       629\n",
      "\n",
      "\n"
     ]
    }
   ],
   "source": [
    "print(f\"Classification report for classifier {gnb}:\\n\"\n",
    "      f\"{metrics.classification_report(Y_test, Y_predicted)}\\n\")"
   ]
  },
  {
   "cell_type": "code",
   "execution_count": 14,
   "metadata": {},
   "outputs": [
    {
     "name": "stdout",
     "output_type": "stream",
     "text": [
      "Confusion matrix:\n",
      "[[55  0  0  0  1  0  0  0  0  0]\n",
      " [ 0 46  0  0  2  0  0  1  5  0]\n",
      " [ 0  4 41  2  0  0  0  0 20  0]\n",
      " [ 0  1  2 52  0  4  0  3  2  1]\n",
      " [ 1  1  2  0 56  0  0  1  0  0]\n",
      " [ 0  0  0  0  2 58  0  1  1  0]\n",
      " [ 0  0  0  0  1  0 63  0  0  0]\n",
      " [ 0  0  0  0  1  0  0 70  0  0]\n",
      " [ 0  1  2  2  0  0  0  5 45  0]\n",
      " [ 1  3  0  3  0  3  0  8  5 51]]\n"
     ]
    },
    {
     "data": {
      "image/png": "[encoded data removed]",
      "text/plain": [
       "<Figure size 432x288 with 2 Axes>"
      ]
     },
     "metadata": {
      "needs_background": "light"
     },
     "output_type": "display_data"
    }
   ],
   "source": [
    "disp = metrics.plot_confusion_matrix(gnb, X_test, Y_test)\n",
    "disp.figure_.suptitle(\"Confusion Matrix\")\n",
    "print(f\"Confusion matrix:\\n{disp.confusion_matrix}\")\n",
    "\n",
    "plt.show()"
   ]
  },
  {
   "cell_type": "code",
   "execution_count": null,
   "metadata": {},
   "outputs": [],
   "source": []
  }
 ],
 "metadata": {
  "kernelspec": {
   "display_name": "Python 3",
   "language": "python",
   "name": "python3"
  },
  "language_info": {
   "codemirror_mode": {
    "name": "ipython",
    "version": 3
   },
   "file_extension": ".py",
   "mimetype": "text/x-python",
   "name": "python",
   "nbconvert_exporter": "python",
   "pygments_lexer": "ipython3",
   "version": "3.8.5"
  }
 },
 "nbformat": 4,
 "nbformat_minor": 4
}
