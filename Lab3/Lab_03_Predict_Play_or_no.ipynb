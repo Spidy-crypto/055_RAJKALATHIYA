{
 "cells": [
  {
   "cell_type": "code",
   "execution_count": 1,
   "metadata": {},
   "outputs": [],
   "source": [
    "import numpy as np\n",
    "import pandas as pd\n",
    "import matplotlib.pyplot as plt\n",
    "from sklearn import datasets, preprocessing\n",
    "from sklearn.naive_bayes import GaussianNB, MultinomialNB"
   ]
  },
  {
   "cell_type": "code",
   "execution_count": 3,
   "metadata": {},
   "outputs": [
    {
     "name": "stdout",
     "output_type": "stream",
     "text": [
      "\n",
      "\n",
      "Heading :- Outlook\n",
      "['R', 'R', 'O', 'S', 'S', 'S', 'O', 'R', 'R', 'S', 'R', 'O', 'O', 'S']\n",
      "\n",
      "\n",
      "After the tranformation of Outlook\n",
      "[1, 1, 0, 2, 2, 2, 0, 1, 1, 2, 1, 0, 0, 2]\n",
      "\n",
      "\n",
      "Heading :- Temp\n",
      "['H', 'H', 'H', 'M', 'M', 'M', 'C', 'C', 'C', 'M', 'M', 'M', 'H', 'M']\n",
      "\n",
      "\n",
      "After the tranformation of Temp\n",
      "[1, 1, 1, 2, 2, 2, 0, 0, 0, 2, 2, 2, 1, 2]\n",
      "\n",
      "\n",
      "Heading :- Wind\n",
      "['F', 'T', 'F', 'F', 'F', 'T', 'T', 'F', 'F', 'F', 'T', 'T', 'F', 'T']\n",
      "\n",
      "\n",
      "After the tranformation of Wind\n",
      "[0, 1, 0, 0, 0, 1, 1, 0, 0, 0, 1, 1, 0, 1]\n",
      "\n",
      "\n",
      "Heading :- Humidity\n",
      "['Normal', 'High', 'Normal', 'Normal', 'Normal', 'Low', 'Normal', 'Normal', 'Low', 'High', 'High', 'Low', 'Normal', 'Normal']\n",
      "\n",
      "\n",
      "After the tranformation of Humidity\n",
      "[2, 0, 2, 2, 2, 1, 2, 2, 1, 0, 0, 1, 2, 2]\n",
      "\n",
      "\n",
      "Heading :- Class\n",
      "['N', 'N', 'Y', 'N', 'Y', 'Y', 'Y', 'Y', 'Y', 'Y', 'Y', 'Y', 'Y', 'N']\n",
      "\n",
      "\n",
      "After the tranformation of Class\n",
      "[0, 0, 1, 0, 1, 1, 1, 1, 1, 1, 1, 1, 1, 0]\n"
     ]
    }
   ],
   "source": [
    "# reading data into main_data\n",
    "\n",
    "main_data = pd.read_csv(\"Dataset2.csv\")\n",
    "\n",
    "# labelEncoder Object\n",
    "label_encoder = preprocessing.LabelEncoder()\n",
    "\n",
    "for data in main_data:\n",
    "  print(f\"\\n\\nHeading :- {data}\")\n",
    "  print(list(main_data[data]))\n",
    "  main_data[data] = label_encoder.fit_transform(main_data[data])\n",
    "  print(f\"\\n\\nAfter the tranformation of {data}\")\n",
    "  print(list(main_data[data]))"
   ]
  },
  {
   "cell_type": "code",
   "execution_count": 4,
   "metadata": {},
   "outputs": [
    {
     "name": "stdout",
     "output_type": "stream",
     "text": [
      "After combined!\n",
      "Outlook, Temp, Wind, Humidity\n",
      "\n",
      "\n",
      "(1, 1, 0, 2)\n",
      "(1, 1, 1, 0)\n",
      "(0, 1, 0, 2)\n",
      "(2, 2, 0, 2)\n",
      "(2, 2, 0, 2)\n",
      "(2, 2, 1, 1)\n",
      "(0, 0, 1, 2)\n",
      "(1, 0, 0, 2)\n",
      "(1, 0, 0, 1)\n",
      "(2, 2, 0, 0)\n",
      "(1, 2, 1, 0)\n",
      "(0, 2, 1, 1)\n",
      "(0, 1, 0, 2)\n",
      "(2, 2, 1, 2)\n"
     ]
    }
   ],
   "source": [
    "# now zip all the features of atmosphere\n",
    "\n",
    "combined_features = tuple(zip(main_data[\"Outlook\"], main_data[\"Temp\"], main_data[\"Wind\"], main_data[\"Humidity\"]))\n",
    "print(\"After combined!\")\n",
    "\n",
    "print(\"Outlook, Temp, Wind, Humidity\\n\\n\")\n",
    "for pair in combined_features:\n",
    "    print(pair)"
   ]
  },
  {
   "cell_type": "code",
   "execution_count": 5,
   "metadata": {},
   "outputs": [
    {
     "name": "stdout",
     "output_type": "stream",
     "text": [
      "[1 1]\n"
     ]
    }
   ],
   "source": [
    "from sklearn.model_selection import train_test_split\n",
    "\n",
    "X_train, X_test, Y_train, Y_test = train_test_split(combined_features, main_data[\"Class\"], test_size = 0.10, random_state = 55)\n",
    "\n",
    "# create model\n",
    "model = MultinomialNB()\n",
    "model.fit(X_train, Y_train)\n",
    "\n",
    "# Predict Y from X_text\n",
    "Y_predicted = model.predict(X_test)\n",
    "\n",
    "print(Y_predicted)\n"
   ]
  },
  {
   "cell_type": "code",
   "execution_count": 6,
   "metadata": {},
   "outputs": [
    {
     "name": "stdout",
     "output_type": "stream",
     "text": [
      "Accuracy is :- 1.0\n"
     ]
    }
   ],
   "source": [
    "from sklearn import metrics\n",
    "\n",
    "print(f\"Accuracy is :- {metrics.accuracy_score(Y_test, Y_predicted)}\")"
   ]
  },
  {
   "cell_type": "code",
   "execution_count": 7,
   "metadata": {},
   "outputs": [
    {
     "name": "stdout",
     "output_type": "stream",
     "text": [
      "precision :- 1.0\n",
      "recall :- 1.0\n"
     ]
    }
   ],
   "source": [
    "from sklearn.metrics import precision_score\n",
    "from sklearn.metrics import recall_score\n",
    "\n",
    "\n",
    "precision = precision_score(Y_test, Y_predicted)\n",
    "recall = recall_score(Y_test, Y_predicted)\n",
    "\n",
    "\n",
    "print(f\"precision :- {precision}\")\n",
    "print(f\"recall :- {recall}\")"
   ]
  },
  {
   "cell_type": "code",
   "execution_count": 8,
   "metadata": {},
   "outputs": [
    {
     "name": "stdout",
     "output_type": "stream",
     "text": [
      "final prediction :- [1]\n"
     ]
    }
   ],
   "source": [
    "# Excersice\n",
    "# Task1\n",
    "\n",
    "# Temp = \"Hot\" and Weather = \"overcast\"\n",
    "\n",
    "output = model.predict([[0, 1, 1, 2]])\n",
    "print(f\"final prediction :- {output}\")"
   ]
  },
  {
   "cell_type": "code",
   "execution_count": 11,
   "metadata": {},
   "outputs": [
    {
     "name": "stdout",
     "output_type": "stream",
     "text": [
      "final prediction :- [1]\n"
     ]
    }
   ],
   "source": [
    "# Excersice\n",
    "# Task2\n",
    "\n",
    "# Temp = \"Mild\" and Weather = \"sunny\"\n",
    "\n",
    "output = model.predict([[2, 2, 1, 2]])\n",
    "print(f\"final prediction :- {output}\")"
   ]
  },
  {
   "cell_type": "code",
   "execution_count": null,
   "metadata": {},
   "outputs": [],
   "source": []
  }
 ],
 "metadata": {
  "kernelspec": {
   "display_name": "Python 3",
   "language": "python",
   "name": "python3"
  },
  "language_info": {
   "codemirror_mode": {
    "name": "ipython",
    "version": 3
   },
   "file_extension": ".py",
   "mimetype": "text/x-python",
   "name": "python",
   "nbconvert_exporter": "python",
   "pygments_lexer": "ipython3",
   "version": "3.8.5"
  }
 },
 "nbformat": 4,
 "nbformat_minor": 4
}
